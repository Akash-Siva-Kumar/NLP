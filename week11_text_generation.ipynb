{
  "cells": [
    {
      "cell_type": "markdown",
      "metadata": {
        "colab_type": "text",
        "id": "view-in-github"
      },
      "source": [
        "<a href=\"https://colab.research.google.com/github/Ali-Alameer/NLP/blob/main/week11_text_generation.ipynb\" target=\"_parent\"><img src=\"https://colab.research.google.com/assets/colab-badge.svg\" alt=\"Open In Colab\"/></a>"
      ]
    },
    {
      "cell_type": "code",
      "execution_count": null,
      "metadata": {
        "id": "5L4wk6Fki6bX"
      },
      "outputs": [],
      "source": [
        "# install openai\n",
        "!pip install -U setuptools\n",
        "!pip install openai"
      ]
    },
    {
      "cell_type": "code",
      "execution_count": null,
      "metadata": {
        "id": "PqTPjruUiU6t"
      },
      "outputs": [],
      "source": [
        "import openai\n",
        "\n",
        "# get the api key from within your account \n",
        "openai.api_key = \"YOUR_API_KEY\"\n",
        "\n",
        "# control prompt for key words extracted from the topic modelling model\n",
        "prompt = \"Input words: cats, dogs, and birds\"\n",
        "model = \"text-davinci-002\"\n",
        "response = openai.Completion.create(\n",
        "    engine=model,\n",
        "    prompt=prompt,\n",
        "    max_tokens=50\n",
        ")\n",
        "\n",
        "output_sentence = response.choices[0].text"
      ]
    },
    {
      "cell_type": "code",
      "execution_count": null,
      "metadata": {
        "id": "7z3SV8RAjfLk"
      },
      "outputs": [],
      "source": [
        "print (output_sentence)"
      ]
    }
  ],
  "metadata": {
    "colab": {
      "authorship_tag": "ABX9TyMy/wd5M+zJZRzG0MIs91E4",
      "include_colab_link": true,
      "provenance": []
    },
    "kernelspec": {
      "display_name": "Python 3",
      "name": "python3"
    },
    "language_info": {
      "name": "python"
    }
  },
  "nbformat": 4,
  "nbformat_minor": 0
}
