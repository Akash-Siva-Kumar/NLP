{
  "nbformat": 4,
  "nbformat_minor": 0,
  "metadata": {
    "colab": {
      "provenance": [],
      "authorship_tag": "ABX9TyNOOsM5/vKTtmfhFUJ6Sqhf",
      "include_colab_link": true
    },
    "kernelspec": {
      "name": "python3",
      "display_name": "Python 3"
    },
    "language_info": {
      "name": "python"
    }
  },
  "cells": [
    {
      "cell_type": "markdown",
      "metadata": {
        "id": "view-in-github",
        "colab_type": "text"
      },
      "source": [
        "<a href=\"https://colab.research.google.com/github/Ali-Alameer/NLP/blob/main/APIs/reddit_api.ipynb\" target=\"_parent\"><img src=\"https://colab.research.google.com/assets/colab-badge.svg\" alt=\"Open In Colab\"/></a>"
      ]
    },
    {
      "cell_type": "code",
      "source": [
        "!pip install praw"
      ],
      "metadata": {
        "id": "oxdTHnmdy9pH"
      },
      "execution_count": null,
      "outputs": []
    },
    {
      "cell_type": "code",
      "source": [
        "import praw\n",
        "import time"
      ],
      "metadata": {
        "id": "xPgqNZv_5K-m"
      },
      "execution_count": 12,
      "outputs": []
    },
    {
      "cell_type": "code",
      "execution_count": null,
      "metadata": {
        "id": "2CMQxbGawQLO"
      },
      "outputs": [],
      "source": [
        "# Install praw library -> pip install praw\n",
        "# Create new app -> https://www.reddit.com/prefs/apps -> personal use script \n",
        "# Specify name. about url and redirect url -> http://localhost:8000/\n",
        "# client_id -> value below personal use script\n",
        "# client_secet -> secret\n",
        "# user_agent -> \"developers\"\n",
        "\n",
        "import pandas as pd\n",
        "\n",
        "reddit = praw.Reddit(client_id='', client_secret='', user_agent='')\n",
        "\n",
        "# Define the keywords and subreddits to search in\n",
        "keywords = ['mould'] # Specify Keywords here\n",
        "subreddits = ['unitedkingdom', 'AskUK', 'Landlord', 'CasualUK', 'CleaningTips', 'HomeImprovement','mold'] #Specify the subreddits\n",
        "\n",
        "# Define the number of posts to retrieve in total\n",
        "num_posts = 200\n",
        "\n",
        "# Define a list to store the extracted data\n",
        "data = []\n",
        "\n",
        "# Loop through each subreddit\n",
        "for subreddit in subreddits:\n",
        "    # Use pagination to retrieve the posts in batches of 100\n",
        "    for i in range(0, num_posts, 100):\n",
        "        # Use the PRAW API to search for posts containing the keywords\n",
        "        search_results = reddit.subreddit(subreddit).search(f\"{' OR '.join(keywords)}\", limit=100, params={'after': i})\n",
        "        # Process the search results\n",
        "        for result in search_results:\n",
        "            # Check if the post has a non-empty selftext field\n",
        "            if result.selftext:\n",
        "                # Extract the relevant data from each post\n",
        "                post_title = result.title\n",
        "                post_text = result.selftext\n",
        "                post_author = result.author.name\n",
        "                post_created_utc = result.created_utc\n",
        "                # Store the data in the list\n",
        "                data.append({'title': post_title, 'text': post_text, 'author': post_author, 'created_utc': post_created_utc})\n",
        "        # Delay for 2 seconds before making the next request\n",
        "        time.sleep(4)\n",
        "\n",
        "# Convert the list of dictionaries to a pandas DataFrame\n",
        "df = pd.DataFrame(data)\n",
        "df"
      ]
    }
  ]
}