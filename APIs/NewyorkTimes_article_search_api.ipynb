{
 "cells": [
  {
   "cell_type": "markdown",
   "metadata": {
    "colab_type": "text",
    "id": "view-in-github"
   },
   "source": [
    "<a href=\"https://colab.research.google.com/github/Ali-Alameer/NLP/blob/main/APIs/NewyorkTimes_article_search_api.ipynb\" target=\"_parent\"><img src=\"https://colab.research.google.com/assets/colab-badge.svg\" alt=\"Open In Colab\"/></a>"
   ]
  },
  {
   "cell_type": "code",
   "execution_count": null,
   "metadata": {
    "colab": {
     "base_uri": "https://localhost:8080/"
    },
    "id": "T3FaObg28QVI",
    "outputId": "10fcb0f5-df3a-4553-ebd7-df819cc03306"
   },
   "outputs": [],
   "source": [
    "# search articles of pigs machine vision in the API \n",
    "\n",
    "# See instructions for installing Requests module for Python\n",
    "# https://requests.readthedocs.io/en/master/user/install/#install\n",
    "\n",
    "import requests\n",
    "import json\n",
    "\n",
    "def execute():\n",
    "  requestUrl = \"https://api.nytimes.com/svc/search/v2/articlesearch.json?begin_date=19500101&end_date=20220101&q=pig%20machine%20vision&api-key=[YOUR_API_KEY]\"\n",
    "  requestHeaders = {\n",
    "    \"Accept\": \"application/json\"\n",
    "  }\n",
    "\n",
    "  response = requests.get(requestUrl, headers=requestHeaders)\n",
    "  json_data = json.loads(response.text)\n",
    "\n",
    "  print(response.text)\n",
    "  with open(\"my_file.txt\", \"w\") as f:\n",
    "    f.write(response.text)\n",
    "\n",
    "  with open('my_file.json', 'w') as f:\n",
    "    json.dump(json_data, f)\n",
    "\n",
    "if __name__ == \"__main__\":\n",
    "  execute()\n"
   ]
  },
  {
   "cell_type": "code",
   "execution_count": 2,
   "metadata": {
    "id": "nlXpkjR59EAf"
   },
   "outputs": [],
   "source": [
    "# clean file\n",
    "\n",
    "# load the JSON file into a dictionary\n",
    "with open('my_file.json', 'r') as f:\n",
    "    data = json.load(f)\n",
    "\n",
    "clean_doc = {'response': {}}\n",
    "clean_doc['response']['docs'] = []\n",
    "\n",
    "for doc in data['response']['docs']:\n",
    "    clean_row = {'abstract': doc['abstract'], 'lead_paragraph': doc['lead_paragraph']}\n",
    "    clean_doc['response']['docs'].append(clean_row)\n",
    "\n",
    "# Convert dictionary to a string representation\n",
    "dict_str = str(clean_doc)\n",
    "\n",
    "# Open a text file for writing and write the dictionary string to the file\n",
    "with open(\"data_clean.json\", \"w\") as file:\n",
    "    file.write(dict_str)"
   ]
  }
 ],
 "metadata": {
  "colab": {
   "authorship_tag": "ABX9TyMxYOCv80vlSfsErcEpSmMZ",
   "include_colab_link": true,
   "provenance": []
  },
  "kernelspec": {
   "display_name": "Python 3",
   "name": "python3"
  },
  "language_info": {
   "name": "python"
  }
 },
 "nbformat": 4,
 "nbformat_minor": 0
}
