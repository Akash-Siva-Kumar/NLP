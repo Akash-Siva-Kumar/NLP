{
  "nbformat": 4,
  "nbformat_minor": 0,
  "metadata": {
    "colab": {
      "provenance": [],
      "include_colab_link": true
    },
    "kernelspec": {
      "name": "python3",
      "display_name": "Python 3"
    },
    "language_info": {
      "name": "python"
    },
    "accelerator": "GPU",
    "gpuClass": "standard"
  },
  "cells": [
    {
      "cell_type": "markdown",
      "metadata": {
        "id": "view-in-github",
        "colab_type": "text"
      },
      "source": [
        "<a href=\"https://colab.research.google.com/github/Ali-Alameer/NLP/blob/main/Topic_Modeling_with_DL.ipynb\" target=\"_parent\"><img src=\"https://colab.research.google.com/assets/colab-badge.svg\" alt=\"Open In Colab\"/></a>"
      ]
    },
    {
      "cell_type": "code",
      "execution_count": null,
      "metadata": {
        "id": "YAJ5B6qXDmiZ"
      },
      "outputs": [],
      "source": [
        "#https://medium.com/grabngoinfo/topic-modeling-with-deep-learning-using-python-bertopic-cf91f5676504\n",
        "#https://medium.com/grabngoinfo/hyperparameter-tuning-for-bertopic-model-in-python-104445778347\n",
        "!pip install bertopic"
      ]
    },
    {
      "cell_type": "code",
      "source": [
        "!pip install flair"
      ],
      "metadata": {
        "id": "2r_8J4w-7Jut"
      },
      "execution_count": null,
      "outputs": []
    },
    {
      "cell_type": "code",
      "source": [
        "!apt-get -qq install -y libfluidsynth1"
      ],
      "metadata": {
        "id": "Qso0IkpMdJiC"
      },
      "execution_count": null,
      "outputs": []
    },
    {
      "cell_type": "code",
      "source": [
        "# Data processing\n",
        "import pandas as pd\n",
        "import numpy as np\n",
        "# Text preprocessiong\n",
        "import nltk\n",
        "nltk.download('stopwords')\n",
        "nltk.download('omw-1.4')\n",
        "nltk.download('wordnet')\n",
        "wn = nltk.WordNetLemmatizer()\n",
        "# Topic model\n",
        "from bertopic import BERTopic\n",
        "# Dimension reduction\n",
        "from umap import UMAP\n",
        "# Clustering\n",
        "from hdbscan import HDBSCAN\n",
        "from sklearn.cluster import KMeans\n",
        "# Count vectorization\n",
        "from sklearn.feature_extraction.text import CountVectorizer\n",
        "# Sentence transformer\n",
        "from sentence_transformers import SentenceTransformer\n",
        "# Flair\n",
        "from transformers.pipelines import pipeline\n",
        "from flair.embeddings import TransformerDocumentEmbeddings, WordEmbeddings, DocumentPoolEmbeddings, StackedEmbeddings"
      ],
      "metadata": {
        "id": "3kK39kSwEIgg"
      },
      "execution_count": null,
      "outputs": []
    },
    {
      "cell_type": "code",
      "source": [
        "from io import BytesIO\n",
        "from zipfile import ZipFile\n",
        "import urllib.request\n",
        "    \n",
        "url = urllib.request.urlopen(\"https://github.com/Ali-Alameer/NLP/raw/main/data/NIPS%20Papers.zip\")\n",
        "\n",
        "with ZipFile(BytesIO(url.read())) as my_zip_file:\n",
        "    temp = my_zip_file.open('NIPS Papers/papers.csv')\n",
        "\n",
        "pr_cancer_papers = pd.read_csv(temp)\n",
        "# to minimise compute \n",
        "pr_cancer_papers = pr_cancer_papers.iloc[0:1000]\n",
        "# Print head\n",
        "pr_cancer_papers.head()"
      ],
      "metadata": {
        "id": "U8FGdQrrEz2e"
      },
      "execution_count": null,
      "outputs": []
    },
    {
      "cell_type": "code",
      "source": [
        "# Get the dataset information\n",
        "pr_cancer_papers.info()"
      ],
      "metadata": {
        "id": "OjyuzbcKFza-"
      },
      "execution_count": null,
      "outputs": []
    },
    {
      "cell_type": "code",
      "source": [
        "# Remove stopwords\n",
        "stopwords = nltk.corpus.stopwords.words('english')\n",
        "print(f'There are {len(stopwords)} default stopwords. They are {stopwords}')"
      ],
      "metadata": {
        "id": "fQuEyDa0GEXU"
      },
      "execution_count": null,
      "outputs": []
    },
    {
      "cell_type": "code",
      "source": [
        "# Remove stopwords\n",
        "pr_cancer_papers['abstract_without_stopwords'] = pr_cancer_papers['paper_text'].apply(lambda x: ' '.join([w for w in x.split() if w.lower() not in stopwords]))\n",
        "# Lemmatization\n",
        "pr_cancer_papers['abstract_lemmatized'] = pr_cancer_papers['abstract_without_stopwords'].apply(lambda x: ' '.join([wn.lemmatize(w) for w in x.split() if w not in stopwords]))\n",
        "# Take a look at the data\n",
        "pr_cancer_papers.head()"
      ],
      "metadata": {
        "id": "qYKJAkufGHDj"
      },
      "execution_count": null,
      "outputs": []
    },
    {
      "cell_type": "code",
      "source": [
        "# Initiate UMAP\n",
        "umap_model = UMAP(n_neighbors=15, \n",
        "                  n_components=5, \n",
        "                  min_dist=0.0, \n",
        "                  metric='cosine', \n",
        "                  random_state=100)\n",
        "# Clustering model\n",
        "# hdbscan_model = HDBSCAN(min_cluster_size=5, min_samples = 5, \n",
        "# metric='euclidean', prediction_data=True)\n",
        "kmeans_model = KMeans(n_clusters=9)\n",
        "# Initiate a sentence transformer model\n",
        "sentence_model = SentenceTransformer(\"paraphrase-albert-small-v2\")\n",
        "# Initiate a pretrained model\n",
        "hf_model = pipeline(\"feature-extraction\", model=\"distilroberta-base\")\n",
        "\n",
        "# Initiate a pretrained embedding model\n",
        "roberta_model = TransformerDocumentEmbeddings('roberta-base')\n",
        "# Initiate another pretrained embedding model\n",
        "glove_embedding = WordEmbeddings('crawl')\n",
        "document_glove_embeddings = DocumentPoolEmbeddings([glove_embedding])\n",
        "# Stack the two pretrained embedding models\n",
        "stacked_embeddings = StackedEmbeddings(embeddings=[roberta_model, \n",
        "document_glove_embeddings])\n",
        "\n",
        "# Count vectorizer\n",
        "vectorizer_model = CountVectorizer(min_df=10)\n",
        "\n",
        "# Initiate BERTopic\n",
        "# topic_model = BERTopic(umap_model=umap_model, language=\"english\", calculate_probabilities=True,hdbscan_model=kmeans_model,\n",
        "#                        embedding_model=stacked_embeddings,min_topic_size=5, n_gram_range=(1, 3),diversity=0.8)#vectorizer_model=vectorizer_model)# Other options for embedding_model are sentence_model, hf_model,roberta_model\n",
        "\n",
        "# Initiate BERTopic\n",
        "topic_model = BERTopic(umap_model=umap_model, language=\"english\", calculate_probabilities=True,hdbscan_model=kmeans_model, n_gram_range=(1, 3))\n",
        "# Run BERTopic model\n",
        "topics, probabilities = topic_model.fit_transform(pr_cancer_papers['abstract_lemmatized'])#abstract_lemmatized"
      ],
      "metadata": {
        "id": "YOzBzoibG71n"
      },
      "execution_count": null,
      "outputs": []
    },
    {
      "cell_type": "code",
      "source": [
        "# Get the list of topics\n",
        "topic_model.get_topic_info()"
      ],
      "metadata": {
        "id": "4dyS2YfzHiW5"
      },
      "execution_count": null,
      "outputs": []
    },
    {
      "cell_type": "code",
      "source": [
        "# Get top 10 terms for a topic\n",
        "topic_model.get_topic(0)"
      ],
      "metadata": {
        "id": "W6ri2j26H45U"
      },
      "execution_count": null,
      "outputs": []
    },
    {
      "cell_type": "code",
      "source": [
        "# Visualize top topic keywords\n",
        "topic_model.visualize_barchart(top_n_topics=12)"
      ],
      "metadata": {
        "id": "9oRCvcaIIGPN"
      },
      "execution_count": null,
      "outputs": []
    },
    {
      "cell_type": "code",
      "source": [
        "# Visualize term rank decrease\n",
        "topic_model.visualize_term_rank()"
      ],
      "metadata": {
        "id": "JrtbLPEQIUnP"
      },
      "execution_count": null,
      "outputs": []
    },
    {
      "cell_type": "code",
      "source": [
        "# Visualize intertopic distance\n",
        "topic_model.visualize_topics()"
      ],
      "metadata": {
        "id": "Y5qFi5v0Ivy4"
      },
      "execution_count": null,
      "outputs": []
    },
    {
      "cell_type": "code",
      "source": [
        "# Visualize connections between topics using hierachical clustering\n",
        "topic_model.visualize_hierarchy(top_n_topics=10)"
      ],
      "metadata": {
        "id": "h21guvbUI-nU"
      },
      "execution_count": null,
      "outputs": []
    },
    {
      "cell_type": "code",
      "source": [
        "# Visualize similarity using heatmap\n",
        "topic_model.visualize_heatmap()"
      ],
      "metadata": {
        "id": "yi05gGQ6JLwu"
      },
      "execution_count": null,
      "outputs": []
    },
    {
      "cell_type": "code",
      "source": [
        "# Get the topic predictions\n",
        "topic_prediction = topic_model.topics_[:]\n",
        "# Save the predictions in the dataframe\n",
        "pr_cancer_papers['topic_prediction'] = topic_prediction\n",
        "# Take a look at the data\n",
        "pr_cancer_papers.head()"
      ],
      "metadata": {
        "id": "3c9_hEHwKICq"
      },
      "execution_count": null,
      "outputs": []
    },
    {
      "cell_type": "code",
      "source": [
        "'''\n",
        "# New data for the review\n",
        "new_review = \"I like the new headphone. Its sound quality is great.\"\n",
        "# Find topics\n",
        "num_of_topics = 3\n",
        "similar_topics, similarity = topic_model.find_topics(new_review, top_n=num_of_topics); \n",
        "# Print results\n",
        "print(f'The top {num_of_topics} similar topics are {similar_topics}, and the similarities are {np.round(similarity,2)}')\n",
        "'''"
      ],
      "metadata": {
        "id": "RrU-6TKSKaB8"
      },
      "execution_count": null,
      "outputs": []
    },
    {
      "cell_type": "code",
      "source": [
        "'''\n",
        "# Print the top keywords for the top similar topics\n",
        "for i in range(num_of_topics):\n",
        "  print(f'The top keywords for topic {similar_topics[i]} are:')\n",
        "  print(topic_model.get_topic(similar_topics[i]))\n",
        "'''"
      ],
      "metadata": {
        "id": "lTxj2YPZKj8T"
      },
      "execution_count": null,
      "outputs": []
    },
    {
      "cell_type": "code",
      "source": [
        "# Save the topic model\n",
        "topic_model.save(\"pr_cancer_papers_topic_model\")\t\n",
        "# Load the topic model\n",
        "my_model = BERTopic.load(\"pr_cancer_papers_topic_model\")"
      ],
      "metadata": {
        "id": "fZM0Vd87K6cs"
      },
      "execution_count": null,
      "outputs": []
    }
  ]
}